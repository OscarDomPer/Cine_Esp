{
 "cells": [
  {
   "cell_type": "code",
   "execution_count": 2,
   "id": "ad91006c-a083-4c44-b9a9-3f740616d901",
   "metadata": {},
   "outputs": [],
   "source": [
    "import numpy as np\n",
    "import pandas as pd\n",
    "\n",
    "import requests\n",
    "\n",
    "from pprint import pprint\n",
    "\n",
    "from dotenv import load_dotenv\n",
    "import os"
   ]
  },
  {
   "cell_type": "code",
   "execution_count": 25,
   "id": "aa11ec54-9322-4b13-a691-d6b373824170",
   "metadata": {},
   "outputs": [],
   "source": [
    "API_KEY = \"patuzkRwlDN4m5ypT.256c50da781da2708983d1ac452874991af809a0ad57e87d34786fe02a30e58c\"\n",
    "\n",
    "BASE_ID = \"appScHgfmPxxGYY0s\" # Base: Tabla API\n",
    "\n",
    "TABLE_ID = \"tblAKB9WSLWSPlqV1\" # Tabla: datos_1\n",
    "\n",
    "airtable_base_url = \"https://api.airtable.com/v0\"\n",
    "\n",
    "# Headers\n",
    "headers = {\"Authorization\" : f\"Bearer {API_KEY}\",\n",
    "           \"Content-Type\"  : \"application/json\"}"
   ]
  },
  {
   "cell_type": "code",
   "execution_count": 26,
   "id": "acd43931-1204-49d5-8e72-a6f377fa5603",
   "metadata": {},
   "outputs": [],
   "source": [
    "ruta_archivo = \"data/data_peliculas_transformado_filtrado.csv\"\n",
    "peliculas = pd.read_csv(ruta_archivo)"
   ]
  },
  {
   "cell_type": "code",
   "execution_count": null,
   "id": "1b201576-6396-4c59-a3b2-c6da70b24a02",
   "metadata": {},
   "outputs": [],
   "source": [
    "peliculas.isna().sum()"
   ]
  },
  {
   "cell_type": "code",
   "execution_count": 28,
   "id": "9de20e4f-e0a7-4f62-afcb-c592bbf87f77",
   "metadata": {},
   "outputs": [],
   "source": [
    "peliculas.Nota = peliculas.Nota.astype(float)\n",
    "peliculas.Votos = peliculas.Votos.astype(float)"
   ]
  },
  {
   "cell_type": "code",
   "execution_count": 33,
   "id": "59e9132e-8587-4eeb-8da4-9b6bf70bfad3",
   "metadata": {},
   "outputs": [],
   "source": [
    "#Cargamos en la lista solo las películas con ingresos\n",
    "\n",
    "datos = []\n",
    "for idx, row in peliculas.iterrows():\n",
    "    if row['Ingresos'] > 0:\n",
    "        if row['Presupuesto'] > 0:\n",
    "            data = {\"fields\": row.fillna(\"\").to_dict()}\n",
    "            datos.append(data)"
   ]
  },
  {
   "cell_type": "code",
   "execution_count": 34,
   "id": "f1aef7bc-7f3e-47c8-b70e-cd784edb601a",
   "metadata": {},
   "outputs": [
    {
     "data": {
      "text/plain": [
       "143"
      ]
     },
     "execution_count": 34,
     "metadata": {},
     "output_type": "execute_result"
    }
   ],
   "source": [
    "len(datos)"
   ]
  },
  {
   "cell_type": "code",
   "execution_count": 35,
   "id": "c00eb271-39c0-46f5-8eeb-a4a33f8769e6",
   "metadata": {},
   "outputs": [],
   "source": [
    "endpoint = f\"{airtable_base_url}/{BASE_ID}/{TABLE_ID}\""
   ]
  },
  {
   "cell_type": "code",
   "execution_count": 36,
   "id": "269d9adc-64eb-4b3c-bb55-bbe7f206bc9f",
   "metadata": {},
   "outputs": [
    {
     "name": "stdout",
     "output_type": "stream",
     "text": [
      "Subiendo datos 0 de 143\n",
      "Subiendo datos 10 de 143\n",
      "Subiendo datos 20 de 143\n",
      "Subiendo datos 30 de 143\n",
      "Subiendo datos 40 de 143\n",
      "Subiendo datos 50 de 143\n",
      "Subiendo datos 60 de 143\n",
      "Subiendo datos 70 de 143\n",
      "Subiendo datos 80 de 143\n",
      "Subiendo datos 90 de 143\n",
      "Subiendo datos 100 de 143\n",
      "Subiendo datos 110 de 143\n",
      "Subiendo datos 120 de 143\n",
      "Subiendo datos 130 de 143\n",
      "Subiendo datos 140 de 143\n"
     ]
    }
   ],
   "source": [
    "counter = 0\n",
    "\n",
    "while counter < len(datos):\n",
    "    print(f\"Subiendo datos {counter} de {len(datos)}\")\n",
    "    datos_subir = datos[counter:counter+10]\n",
    "    datos_subir = {\"records\": datos_subir}\n",
    "    \n",
    "    response = requests.post(url = endpoint, headers = headers, json = datos_subir)\n",
    "    counter += 10"
   ]
  },
  {
   "cell_type": "code",
   "execution_count": 37,
   "id": "a3980948-407e-42b3-90de-5f30e31c96a7",
   "metadata": {},
   "outputs": [
    {
     "name": "stdout",
     "output_type": "stream",
     "text": [
      "143\n"
     ]
    }
   ],
   "source": [
    "params = {}\n",
    "\n",
    "datos = []\n",
    "\n",
    "while True:\n",
    "    \n",
    "    response = requests.get(url = endpoint, headers = headers, params = params)\n",
    "    \n",
    "    data = response.json()\n",
    "\n",
    "    datos.extend(data[\"records\"])\n",
    "    \n",
    "    offset = data.get(\"offset\")\n",
    "\n",
    "    if offset is None:\n",
    "        break\n",
    "    \n",
    "    params[\"offset\"] = offset\n",
    "    \n",
    "print(len(datos))"
   ]
  },
  {
   "cell_type": "code",
   "execution_count": 39,
   "id": "79052a92-603a-4e2f-9bd7-191485d7482c",
   "metadata": {},
   "outputs": [],
   "source": [
    "df_peliculas = pd.DataFrame([x['fields'] for x in datos])"
   ]
  },
  {
   "cell_type": "code",
   "execution_count": null,
   "id": "b1bbcebb-0451-4db7-9867-e02a5ba01259",
   "metadata": {},
   "outputs": [],
   "source": []
  },
  {
   "cell_type": "code",
   "execution_count": 41,
   "id": "c30fa31b-99ff-4aed-81c4-d1471d938a08",
   "metadata": {},
   "outputs": [
    {
     "name": "stdout",
     "output_type": "stream",
     "text": [
      "Collecting fa-scraper\n",
      "  Downloading fa_scraper-0.3.2-py3-none-any.whl (18 kB)\n",
      "Requirement already satisfied: arrow<2.0.0,>=1.2.1 in /home/miguel/Documentos/bootcamp/venv/lib/python3.11/site-packages (from fa-scraper) (1.2.3)\n",
      "Requirement already satisfied: beautifulsoup4<5.0.0,>=4.9.1 in /home/miguel/Documentos/bootcamp/venv/lib/python3.11/site-packages (from fa-scraper) (4.12.2)\n",
      "Requirement already satisfied: lxml<5.0.0,>=4.5.1 in /home/miguel/Documentos/bootcamp/venv/lib/python3.11/site-packages (from fa-scraper) (4.9.3)\n",
      "Requirement already satisfied: requests<3.0.0,>=2.21.0 in /home/miguel/Documentos/bootcamp/venv/lib/python3.11/site-packages (from fa-scraper) (2.31.0)\n",
      "Requirement already satisfied: python-dateutil>=2.7.0 in /home/miguel/Documentos/bootcamp/venv/lib/python3.11/site-packages (from arrow<2.0.0,>=1.2.1->fa-scraper) (2.8.2)\n",
      "Requirement already satisfied: soupsieve>1.2 in /home/miguel/Documentos/bootcamp/venv/lib/python3.11/site-packages (from beautifulsoup4<5.0.0,>=4.9.1->fa-scraper) (2.5)\n",
      "Requirement already satisfied: charset-normalizer<4,>=2 in /home/miguel/Documentos/bootcamp/venv/lib/python3.11/site-packages (from requests<3.0.0,>=2.21.0->fa-scraper) (3.2.0)\n",
      "Requirement already satisfied: idna<4,>=2.5 in /home/miguel/Documentos/bootcamp/venv/lib/python3.11/site-packages (from requests<3.0.0,>=2.21.0->fa-scraper) (3.4)\n",
      "Requirement already satisfied: urllib3<3,>=1.21.1 in /home/miguel/Documentos/bootcamp/venv/lib/python3.11/site-packages (from requests<3.0.0,>=2.21.0->fa-scraper) (1.26.17)\n",
      "Requirement already satisfied: certifi>=2017.4.17 in /home/miguel/Documentos/bootcamp/venv/lib/python3.11/site-packages (from requests<3.0.0,>=2.21.0->fa-scraper) (2023.7.22)\n",
      "Requirement already satisfied: six>=1.5 in /home/miguel/Documentos/bootcamp/venv/lib/python3.11/site-packages (from python-dateutil>=2.7.0->arrow<2.0.0,>=1.2.1->fa-scraper) (1.16.0)\n",
      "Installing collected packages: fa-scraper\n",
      "Successfully installed fa-scraper-0.3.2\n"
     ]
    }
   ],
   "source": [
    "!pip install fa-scraper"
   ]
  },
  {
   "cell_type": "code",
   "execution_count": 45,
   "id": "f68aceb9-9a51-4672-be72-ecdef4e56cd4",
   "metadata": {},
   "outputs": [],
   "source": [
    "import fa_scraper"
   ]
  },
  {
   "cell_type": "code",
   "execution_count": 46,
   "id": "2f712a08-d185-4248-a2a5-9f94681ef6e6",
   "metadata": {},
   "outputs": [
    {
     "data": {
      "text/plain": [
       "['FACategory',\n",
       " 'Lang',\n",
       " 'UserId',\n",
       " '__builtins__',\n",
       " '__cached__',\n",
       " '__doc__',\n",
       " '__file__',\n",
       " '__loader__',\n",
       " '__name__',\n",
       " '__package__',\n",
       " '__path__',\n",
       " '__spec__',\n",
       " '__version__',\n",
       " 'fa_scraper',\n",
       " 'get_profile_data',\n",
       " 'importlib_metadata',\n",
       " 'types']"
      ]
     },
     "execution_count": 46,
     "metadata": {},
     "output_type": "execute_result"
    }
   ],
   "source": [
    "dir(fa_scraper)"
   ]
  },
  {
   "cell_type": "code",
   "execution_count": 59,
   "id": "e1d3a448-047e-40c9-8cf3-76f6941f01a2",
   "metadata": {},
   "outputs": [
    {
     "ename": "SyntaxError",
     "evalue": "incomplete input (2526224096.py, line 1)",
     "output_type": "error",
     "traceback": [
      "\u001b[0;36m  Cell \u001b[0;32mIn[59], line 1\u001b[0;36m\u001b[0m\n\u001b[0;31m    dir(fa_scraper.fa_scraper(get_date=\"411856\")\u001b[0m\n\u001b[0m                                                ^\u001b[0m\n\u001b[0;31mSyntaxError\u001b[0m\u001b[0;31m:\u001b[0m incomplete input\n"
     ]
    }
   ],
   "source": []
  },
  {
   "cell_type": "code",
   "execution_count": null,
   "id": "3fbd42a1-b864-4eec-9afd-2958c423c271",
   "metadata": {},
   "outputs": [],
   "source": []
  }
 ],
 "metadata": {
  "kernelspec": {
   "display_name": "Python 3 (ipykernel)",
   "language": "python",
   "name": "python3"
  },
  "language_info": {
   "codemirror_mode": {
    "name": "ipython",
    "version": 3
   },
   "file_extension": ".py",
   "mimetype": "text/x-python",
   "name": "python",
   "nbconvert_exporter": "python",
   "pygments_lexer": "ipython3",
   "version": "3.11.4"
  },
  "widgets": {
   "application/vnd.jupyter.widget-state+json": {
    "state": {},
    "version_major": 2,
    "version_minor": 0
   }
  }
 },
 "nbformat": 4,
 "nbformat_minor": 5
}
