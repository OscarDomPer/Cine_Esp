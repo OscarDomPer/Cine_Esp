{
 "cells": [
  {
   "cell_type": "code",
   "execution_count": 2,
   "id": "a06457a1-934f-4dbf-bb40-4dec38415f33",
   "metadata": {
    "tags": []
   },
   "outputs": [
    {
     "name": "stdout",
     "output_type": "stream",
     "text": [
      "Presupuesto: 5700000\n",
      "Ingresos: 19300483\n"
     ]
    }
   ],
   "source": [
    "import requests\n",
    "import json\n",
    "\n",
    "# Define la API key y la URL base\n",
    "api_key = 'ca6304d8a50cda4b64a90f92c5722181'\n",
    "base_url = 'https://api.themoviedb.org/3'\n",
    "\n",
    "# Buscar la película\n",
    "search_url = f'{base_url}/search/movie?query=Celda+211&api_key={api_key}'\n",
    "search_response = requests.get(search_url)\n",
    "search_data = search_response.json()\n",
    "\n",
    "# Obtén el ID de la película\n",
    "movie_id = search_data['results'][0]['id']\n",
    "\n",
    "# Consultar los detalles de la película\n",
    "details_url = f'{base_url}/movie/{movie_id}?api_key={api_key}'\n",
    "details_response = requests.get(details_url)\n",
    "details_data = details_response.json()\n",
    "\n",
    "# Imprimir el presupuesto y los ingresos\n",
    "print(f'Presupuesto: {details_data[\"budget\"]}')\n",
    "print(f'Ingresos: {details_data[\"revenue\"]}')\n"
   ]
  },
  {
   "cell_type": "code",
   "execution_count": 18,
   "id": "4c35f49f-9709-4874-8194-e5bddbee41a6",
   "metadata": {
    "tags": []
   },
   "outputs": [
    {
     "name": "stderr",
     "output_type": "stream",
     "text": [
      "  3%|▎         | 100/3288 [00:41<24:57,  2.13it/s]"
     ]
    },
    {
     "name": "stdout",
     "output_type": "stream",
     "text": [
      "Datos económicos de las primeras 100 películas guardados en data_peliculas_transformado.csv\n"
     ]
    },
    {
     "name": "stderr",
     "output_type": "stream",
     "text": [
      "  6%|▌         | 203/3288 [01:27<26:59,  1.90it/s]"
     ]
    },
    {
     "name": "stdout",
     "output_type": "stream",
     "text": [
      "Datos económicos de las primeras 200 películas guardados en data_peliculas_transformado.csv\n"
     ]
    },
    {
     "name": "stderr",
     "output_type": "stream",
     "text": [
      "  9%|▉         | 303/3288 [02:14<23:27,  2.12it/s]"
     ]
    },
    {
     "name": "stdout",
     "output_type": "stream",
     "text": [
      "Datos económicos de las primeras 300 películas guardados en data_peliculas_transformado.csv\n"
     ]
    },
    {
     "name": "stderr",
     "output_type": "stream",
     "text": [
      " 12%|█▏        | 405/3288 [03:02<23:16,  2.07it/s]"
     ]
    },
    {
     "name": "stdout",
     "output_type": "stream",
     "text": [
      "Datos económicos de las primeras 400 películas guardados en data_peliculas_transformado.csv\n"
     ]
    },
    {
     "name": "stderr",
     "output_type": "stream",
     "text": [
      " 15%|█▌        | 506/3288 [03:50<20:50,  2.23it/s]"
     ]
    },
    {
     "name": "stdout",
     "output_type": "stream",
     "text": [
      "Datos económicos de las primeras 500 películas guardados en data_peliculas_transformado.csv\n"
     ]
    },
    {
     "name": "stderr",
     "output_type": "stream",
     "text": [
      " 18%|█▊        | 606/3288 [04:35<20:53,  2.14it/s]"
     ]
    },
    {
     "name": "stdout",
     "output_type": "stream",
     "text": [
      "Datos económicos de las primeras 600 películas guardados en data_peliculas_transformado.csv\n"
     ]
    },
    {
     "name": "stderr",
     "output_type": "stream",
     "text": [
      " 21%|██▏       | 706/3288 [05:23<20:17,  2.12it/s]"
     ]
    },
    {
     "name": "stdout",
     "output_type": "stream",
     "text": [
      "Datos económicos de las primeras 700 películas guardados en data_peliculas_transformado.csv\n"
     ]
    },
    {
     "name": "stderr",
     "output_type": "stream",
     "text": [
      " 25%|██▍       | 806/3288 [06:09<16:45,  2.47it/s]"
     ]
    },
    {
     "name": "stdout",
     "output_type": "stream",
     "text": [
      "Datos económicos de las primeras 800 películas guardados en data_peliculas_transformado.csv\n"
     ]
    },
    {
     "name": "stderr",
     "output_type": "stream",
     "text": [
      " 28%|██▊       | 906/3288 [06:56<18:48,  2.11it/s]"
     ]
    },
    {
     "name": "stdout",
     "output_type": "stream",
     "text": [
      "Datos económicos de las primeras 900 películas guardados en data_peliculas_transformado.csv\n"
     ]
    },
    {
     "name": "stderr",
     "output_type": "stream",
     "text": [
      " 31%|███       | 1006/3288 [07:42<17:53,  2.13it/s]"
     ]
    },
    {
     "name": "stdout",
     "output_type": "stream",
     "text": [
      "Datos económicos de las primeras 1000 películas guardados en data_peliculas_transformado.csv\n"
     ]
    },
    {
     "name": "stderr",
     "output_type": "stream",
     "text": [
      " 34%|███▎      | 1108/3288 [08:29<17:08,  2.12it/s]"
     ]
    },
    {
     "name": "stdout",
     "output_type": "stream",
     "text": [
      "Datos económicos de las primeras 1100 películas guardados en data_peliculas_transformado.csv\n"
     ]
    },
    {
     "name": "stderr",
     "output_type": "stream",
     "text": [
      " 37%|███▋      | 1208/3288 [09:15<17:15,  2.01it/s]"
     ]
    },
    {
     "name": "stdout",
     "output_type": "stream",
     "text": [
      "Datos económicos de las primeras 1200 películas guardados en data_peliculas_transformado.csv\n"
     ]
    },
    {
     "name": "stderr",
     "output_type": "stream",
     "text": [
      " 40%|███▉      | 1308/3288 [10:04<19:08,  1.72it/s]"
     ]
    },
    {
     "name": "stdout",
     "output_type": "stream",
     "text": [
      "Datos económicos de las primeras 1300 películas guardados en data_peliculas_transformado.csv\n"
     ]
    },
    {
     "name": "stderr",
     "output_type": "stream",
     "text": [
      " 43%|████▎     | 1409/3288 [10:53<15:52,  1.97it/s]"
     ]
    },
    {
     "name": "stdout",
     "output_type": "stream",
     "text": [
      "Datos económicos de las primeras 1400 películas guardados en data_peliculas_transformado.csv\n"
     ]
    },
    {
     "name": "stderr",
     "output_type": "stream",
     "text": [
      " 46%|████▌     | 1509/3288 [11:43<14:33,  2.04it/s]"
     ]
    },
    {
     "name": "stdout",
     "output_type": "stream",
     "text": [
      "Datos económicos de las primeras 1500 películas guardados en data_peliculas_transformado.csv\n"
     ]
    },
    {
     "name": "stderr",
     "output_type": "stream",
     "text": [
      " 49%|████▉     | 1610/3288 [12:30<13:31,  2.07it/s]"
     ]
    },
    {
     "name": "stdout",
     "output_type": "stream",
     "text": [
      "Datos económicos de las primeras 1600 películas guardados en data_peliculas_transformado.csv\n"
     ]
    },
    {
     "name": "stderr",
     "output_type": "stream",
     "text": [
      " 52%|█████▏    | 1711/3288 [13:19<12:39,  2.08it/s]"
     ]
    },
    {
     "name": "stdout",
     "output_type": "stream",
     "text": [
      "Datos económicos de las primeras 1700 películas guardados en data_peliculas_transformado.csv\n"
     ]
    },
    {
     "name": "stderr",
     "output_type": "stream",
     "text": [
      " 55%|█████▌    | 1812/3288 [14:05<11:23,  2.16it/s]"
     ]
    },
    {
     "name": "stdout",
     "output_type": "stream",
     "text": [
      "Datos económicos de las primeras 1800 películas guardados en data_peliculas_transformado.csv\n"
     ]
    },
    {
     "name": "stderr",
     "output_type": "stream",
     "text": [
      " 58%|█████▊    | 1912/3288 [14:51<11:30,  1.99it/s]"
     ]
    },
    {
     "name": "stdout",
     "output_type": "stream",
     "text": [
      "Datos económicos de las primeras 1900 películas guardados en data_peliculas_transformado.csv\n"
     ]
    },
    {
     "name": "stderr",
     "output_type": "stream",
     "text": [
      " 61%|██████▏   | 2015/3288 [15:42<10:36,  2.00it/s]"
     ]
    },
    {
     "name": "stdout",
     "output_type": "stream",
     "text": [
      "Datos económicos de las primeras 2000 películas guardados en data_peliculas_transformado.csv\n"
     ]
    },
    {
     "name": "stderr",
     "output_type": "stream",
     "text": [
      " 64%|██████▍   | 2115/3288 [16:29<09:17,  2.10it/s]"
     ]
    },
    {
     "name": "stdout",
     "output_type": "stream",
     "text": [
      "Datos económicos de las primeras 2100 películas guardados en data_peliculas_transformado.csv\n"
     ]
    },
    {
     "name": "stderr",
     "output_type": "stream",
     "text": [
      " 67%|██████▋   | 2217/3288 [17:15<09:02,  1.97it/s]"
     ]
    },
    {
     "name": "stdout",
     "output_type": "stream",
     "text": [
      "Datos económicos de las primeras 2200 películas guardados en data_peliculas_transformado.csv\n"
     ]
    },
    {
     "name": "stderr",
     "output_type": "stream",
     "text": [
      " 70%|███████   | 2317/3288 [18:00<07:38,  2.12it/s]"
     ]
    },
    {
     "name": "stdout",
     "output_type": "stream",
     "text": [
      "Datos económicos de las primeras 2300 películas guardados en data_peliculas_transformado.csv\n"
     ]
    },
    {
     "name": "stderr",
     "output_type": "stream",
     "text": [
      " 74%|███████▎  | 2417/3288 [18:46<07:05,  2.05it/s]"
     ]
    },
    {
     "name": "stdout",
     "output_type": "stream",
     "text": [
      "Datos económicos de las primeras 2400 películas guardados en data_peliculas_transformado.csv\n"
     ]
    },
    {
     "name": "stderr",
     "output_type": "stream",
     "text": [
      " 77%|███████▋  | 2517/3288 [19:33<05:50,  2.20it/s]"
     ]
    },
    {
     "name": "stdout",
     "output_type": "stream",
     "text": [
      "Datos económicos de las primeras 2500 películas guardados en data_peliculas_transformado.csv\n"
     ]
    },
    {
     "name": "stderr",
     "output_type": "stream",
     "text": [
      " 80%|███████▉  | 2617/3288 [20:21<05:24,  2.07it/s]"
     ]
    },
    {
     "name": "stdout",
     "output_type": "stream",
     "text": [
      "Datos económicos de las primeras 2600 películas guardados en data_peliculas_transformado.csv\n"
     ]
    },
    {
     "name": "stderr",
     "output_type": "stream",
     "text": [
      " 83%|████████▎ | 2717/3288 [21:06<04:27,  2.13it/s]"
     ]
    },
    {
     "name": "stdout",
     "output_type": "stream",
     "text": [
      "Datos económicos de las primeras 2700 películas guardados en data_peliculas_transformado.csv\n"
     ]
    },
    {
     "name": "stderr",
     "output_type": "stream",
     "text": [
      " 86%|████████▌ | 2818/3288 [21:53<03:36,  2.17it/s]"
     ]
    },
    {
     "name": "stdout",
     "output_type": "stream",
     "text": [
      "Datos económicos de las primeras 2800 películas guardados en data_peliculas_transformado.csv\n"
     ]
    },
    {
     "name": "stderr",
     "output_type": "stream",
     "text": [
      " 89%|████████▉ | 2919/3288 [22:41<02:52,  2.14it/s]"
     ]
    },
    {
     "name": "stdout",
     "output_type": "stream",
     "text": [
      "Datos económicos de las primeras 2900 películas guardados en data_peliculas_transformado.csv\n"
     ]
    },
    {
     "name": "stderr",
     "output_type": "stream",
     "text": [
      " 92%|█████████▏| 3021/3288 [23:28<02:08,  2.07it/s]"
     ]
    },
    {
     "name": "stdout",
     "output_type": "stream",
     "text": [
      "Datos económicos de las primeras 3000 películas guardados en data_peliculas_transformado.csv\n"
     ]
    },
    {
     "name": "stderr",
     "output_type": "stream",
     "text": [
      " 95%|█████████▍| 3121/3288 [24:15<01:17,  2.15it/s]"
     ]
    },
    {
     "name": "stdout",
     "output_type": "stream",
     "text": [
      "Datos económicos de las primeras 3100 películas guardados en data_peliculas_transformado.csv\n"
     ]
    },
    {
     "name": "stderr",
     "output_type": "stream",
     "text": [
      " 98%|█████████▊| 3225/3288 [25:04<00:30,  2.06it/s]"
     ]
    },
    {
     "name": "stdout",
     "output_type": "stream",
     "text": [
      "Datos económicos de las primeras 3200 películas guardados en data_peliculas_transformado.csv\n"
     ]
    },
    {
     "name": "stderr",
     "output_type": "stream",
     "text": [
      "100%|██████████| 3288/3288 [25:34<00:00,  2.14it/s]"
     ]
    },
    {
     "name": "stdout",
     "output_type": "stream",
     "text": [
      "Datos económicos de todas las películas guardados en data_peliculas_transformado.csv\n",
      "                                    Título  \\\n",
      "0                               El verdugo   \n",
      "1                     Los santos inocentes   \n",
      "2                                  Plácido   \n",
      "3                                Viridiana   \n",
      "4              Bienvenido, Míster Marshall   \n",
      "...                                    ...   \n",
      "3283                       Mallorca Zombie   \n",
      "3284  El altar: Demasiado tarde para rezar   \n",
      "3285                             Bocadillo   \n",
      "3286                                  2097   \n",
      "3287         Deadhunter: Sevillian Zombies   \n",
      "\n",
      "                                                  URL Procesado  Nota  \\\n",
      "0     https://www.filmaffinity.com/es/film411856.html        Sí   8.2   \n",
      "1     https://www.filmaffinity.com/es/film879812.html        Sí   8.1   \n",
      "2     https://www.filmaffinity.com/es/film895672.html        Sí   8.1   \n",
      "3     https://www.filmaffinity.com/es/film123112.html        Sí   8.1   \n",
      "4     https://www.filmaffinity.com/es/film435869.html        Sí   8.0   \n",
      "...                                               ...       ...   ...   \n",
      "3283  https://www.filmaffinity.com/es/film614286.html        Sí   1.6   \n",
      "3284  https://www.filmaffinity.com/es/film166981.html        Sí   1.6   \n",
      "3285  https://www.filmaffinity.com/es/film513377.html        Sí   1.5   \n",
      "3286  https://www.filmaffinity.com/es/film680362.html        Sí   1.5   \n",
      "3287  https://www.filmaffinity.com/es/film167980.html        Sí   1.5   \n",
      "\n",
      "        Votos         Año                                            Reparto  \\\n",
      "0     41447.0  1963-01-01  ['José Isbert', 'Nino Manfredi', 'Emma Penella...   \n",
      "1     44470.0  1984-01-01  ['Alfredo Landa', 'Francisco Rabal', 'Juan Die...   \n",
      "2     20396.0  1961-01-01  ['Cassen', 'José Luis López Vázquez', 'Elvira ...   \n",
      "3     28771.0  1961-01-01  ['Silvia Pinal', 'Fernando Rey', 'Francisco Ra...   \n",
      "4     31421.0  1953-01-01  ['José Isbert', 'Lolita Sevilla', 'Manolo Morá...   \n",
      "...       ...         ...                                                ...   \n",
      "3283    236.0  2009-01-01          ['No se encontró información de reparto']   \n",
      "3284    123.0  2013-01-01          ['No se encontró información de reparto']   \n",
      "3285   2073.0  2018-01-01  ['Ismael Prego', 'Joaquín Albero', 'David Caja...   \n",
      "3286    102.0  2017-01-01  ['Saray Castro', 'Abraham Santacruz', 'Alba Ma...   \n",
      "3287    442.0  2003-01-01          ['No se encontró información de reparto']   \n",
      "\n",
      "                      Director                                    Compañías  \\\n",
      "0     ['Luis García Berlanga']                ['Naga Films', 'Zabra Films']   \n",
      "1              ['Mario Camus']                           ['Ganesh', 'RTVE']   \n",
      "2     ['Luis García Berlanga']               ['Jet Films', 'Alfredo Matas']   \n",
      "3              ['Luis Buñuel']                       ['Films 59', 'Uninci']   \n",
      "4     ['Luis García Berlanga']                                   ['Uninci']   \n",
      "...                        ...                                          ...   \n",
      "3283          ['Marc Albertí']               ['Alex Vargas', 'Friki Films']   \n",
      "3284   ['Pedro Sánchez Román']                             ['Grafxdigital']   \n",
      "3285          ['Ismael Prego']                                ['YouPlanet']   \n",
      "3286      ['Esteban Calderín']  ['No se encontró información de compañías']   \n",
      "3287           ['Julián Lara']                              ['Julián Lara']   \n",
      "\n",
      "                                        Coproducción  \\\n",
      "0                          ['España-Italia', 'Naga']   \n",
      "1     ['No se encontró información de coproducción']   \n",
      "2                        ['Films.Productor:Alfredo']   \n",
      "3                         ['España-México', 'Films']   \n",
      "4     ['No se encontró información de coproducción']   \n",
      "...                                              ...   \n",
      "3283                             ['Vargas', 'Friki']   \n",
      "3284  ['No se encontró información de coproducción']   \n",
      "3285  ['No se encontró información de coproducción']   \n",
      "3286  ['No se encontró información de coproducción']   \n",
      "3287                                        ['Lara']   \n",
      "\n",
      "                                                Géneros  \\\n",
      "0     ['Comedia', 'Sátira', 'Comedia negra', 'Pelícu...   \n",
      "1     ['Drama', 'Drama social', 'Vida rural', 'Años ...   \n",
      "2           ['Comedia', 'Pobreza', 'Navidad', 'Sátira']   \n",
      "3            ['Drama', 'Religión', 'Película de culto']   \n",
      "4                                 ['Comedia', 'Sátira']   \n",
      "...                                                 ...   \n",
      "3283  ['Terror', 'Zombis', 'Serie B', 'Película de e...   \n",
      "3284                           ['Terror', 'Fantástico']   \n",
      "3285                                        ['Comedia']   \n",
      "3286                                         ['Acción']   \n",
      "3287                    ['Terror', 'Zombis', 'Serie B']   \n",
      "\n",
      "                                                Premios Presupuesto Ingresos  \n",
      "0       ['1963: Festival de Venecia: Premios FIPRESCI']           0        0  \n",
      "1     ['1984: Cannes: Mejor Actor (ex aequo: Francis...           0  3149062  \n",
      "2     ['1961: Nominada al Oscar: Mejor película de h...           0        0  \n",
      "3     ['1961: Festival de Cannes: Palma de Oro (ex-a...           0   679244  \n",
      "4     ['1953: Festival de Cannes: Premio Internacion...           0        0  \n",
      "...                                                 ...         ...      ...  \n",
      "3283                                                 []           0        6  \n",
      "3284                                                 []        4000        0  \n",
      "3285                                                 []           0      200  \n",
      "3286                                                 []           0        0  \n",
      "3287                                                 []           0        0  \n",
      "\n",
      "[3288 rows x 14 columns]\n"
     ]
    },
    {
     "name": "stderr",
     "output_type": "stream",
     "text": [
      "\n"
     ]
    }
   ],
   "source": [
    "import pandas as pd\n",
    "import requests\n",
    "import time\n",
    "from tqdm import tqdm\n",
    "from urllib.parse import quote_plus\n",
    "\n",
    "# Define la clave API y la URL base\n",
    "clave_api = 'ca6304d8a50cda4b64a90f92c5722181'\n",
    "url_base = 'https://api.themoviedb.org/3'\n",
    "\n",
    "# Cargar el archivo CSV\n",
    "ruta_archivo = 'data/data_peliculas_transformado.csv'\n",
    "datos = pd.read_csv(ruta_archivo)\n",
    "\n",
    "# Asegurarse de que las nuevas columnas existan, si no, inicializarlas\n",
    "if 'Presupuesto' not in datos.columns:\n",
    "    datos['Presupuesto'] = None\n",
    "if 'Ingresos' not in datos.columns:\n",
    "    datos['Ingresos'] = None\n",
    "\n",
    "# Establecer todos los valores de la columna 'Procesado' en 'No'\n",
    "datos['Procesado'] = 'No'\n",
    "\n",
    "# Contador de películas procesadas\n",
    "peliculas_procesadas = 0\n",
    "\n",
    "# Iterar sobre cada título de película en el archivo CSV\n",
    "for indice, fila in tqdm(datos.iterrows(), total=datos.shape[0]):\n",
    "    titulo = fila['Título']\n",
    "    titulo_codificado = quote_plus(titulo)\n",
    "\n",
    "    # Si ya ha sido procesado, saltar a la siguiente iteración\n",
    "    if fila['Procesado'] == 'Sí':\n",
    "        continue\n",
    "\n",
    "    try:\n",
    "        # Buscar la película en TMDb\n",
    "        url_busqueda = f'{url_base}/search/movie?query={titulo_codificado}&api_key={clave_api}'\n",
    "        respuesta_busqueda = requests.get(url_busqueda)\n",
    "        datos_busqueda = respuesta_busqueda.json()\n",
    "\n",
    "        # Verificar si se encontró la película\n",
    "        if datos_busqueda['results']:\n",
    "            # Obtener el ID de la película\n",
    "            id_pelicula = datos_busqueda['results'][0]['id']\n",
    "\n",
    "            # Consultar los detalles de la película\n",
    "            url_detalles = f'{url_base}/movie/{id_pelicula}?api_key={clave_api}'\n",
    "            respuesta_detalles = requests.get(url_detalles)\n",
    "            datos_detalles = respuesta_detalles.json()\n",
    "\n",
    "            # Obtener el presupuesto y los ingresos\n",
    "            presupuesto = datos_detalles.get('budget', 0)\n",
    "            ingresos = datos_detalles.get('revenue', 0)\n",
    "\n",
    "            # Incrementar el contador de películas procesadas\n",
    "            peliculas_procesadas += 1\n",
    "\n",
    "            # Actualizar el DataFrame original con los datos extraídos\n",
    "            datos.at[indice, 'Presupuesto'] = presupuesto\n",
    "            datos.at[indice, 'Ingresos'] = ingresos\n",
    "            datos.at[indice, 'Procesado'] = 'Sí'\n",
    "\n",
    "            # Guardar el DataFrame en el archivo CSV cada 100 películas procesadas\n",
    "            if peliculas_procesadas % 100 == 0:\n",
    "                datos.to_csv(ruta_archivo, index=False)\n",
    "                print(f\"Datos económicos de las primeras {peliculas_procesadas} películas guardados en {ruta_archivo}\")\n",
    "\n",
    "        else:\n",
    "            # Si no se encontró la película, marcar como no procesada\n",
    "            datos.at[indice, 'Procesado'] = 'No'\n",
    "\n",
    "    except Exception as e:\n",
    "        print(f\"Error procesando la película {titulo}: {e}\")\n",
    "        # Marcar la película como no procesada en el DataFrame original\n",
    "        datos.at[indice, 'Procesado'] = 'No'\n",
    "\n",
    "    # Añadir una pausa para respetar el límite de solicitudes de la API\n",
    "    time.sleep(0.02)\n",
    "\n",
    "# Guardar el DataFrame en el archivo CSV al final del proceso\n",
    "datos.to_csv(ruta_archivo, index=False)\n",
    "print(f\"Datos económicos de todas las películas guardados en {ruta_archivo}\")\n",
    "\n",
    "\n",
    "# Imprimir el DataFrame\n",
    "print(datos)"
   ]
  },
  {
   "cell_type": "code",
   "execution_count": 20,
   "id": "d15b6251-e169-4ad2-a5f6-7af218a0cf99",
   "metadata": {
    "tags": []
   },
   "outputs": [
    {
     "data": {
      "text/html": [
       "<div>\n",
       "<style scoped>\n",
       "    .dataframe tbody tr th:only-of-type {\n",
       "        vertical-align: middle;\n",
       "    }\n",
       "\n",
       "    .dataframe tbody tr th {\n",
       "        vertical-align: top;\n",
       "    }\n",
       "\n",
       "    .dataframe thead th {\n",
       "        text-align: right;\n",
       "    }\n",
       "</style>\n",
       "<table border=\"1\" class=\"dataframe\">\n",
       "  <thead>\n",
       "    <tr style=\"text-align: right;\">\n",
       "      <th></th>\n",
       "      <th>Título</th>\n",
       "      <th>URL</th>\n",
       "      <th>Procesado</th>\n",
       "      <th>Nota</th>\n",
       "      <th>Votos</th>\n",
       "      <th>Año</th>\n",
       "      <th>Reparto</th>\n",
       "      <th>Director</th>\n",
       "      <th>Compañías</th>\n",
       "      <th>Coproducción</th>\n",
       "      <th>Géneros</th>\n",
       "      <th>Premios</th>\n",
       "      <th>Presupuesto</th>\n",
       "      <th>Ingresos</th>\n",
       "    </tr>\n",
       "  </thead>\n",
       "  <tbody>\n",
       "    <tr>\n",
       "      <th>0</th>\n",
       "      <td>El verdugo</td>\n",
       "      <td>https://www.filmaffinity.com/es/film411856.html</td>\n",
       "      <td>Sí</td>\n",
       "      <td>8.2</td>\n",
       "      <td>41447.0</td>\n",
       "      <td>1963-01-01</td>\n",
       "      <td>['José Isbert', 'Nino Manfredi', 'Emma Penella...</td>\n",
       "      <td>['Luis García Berlanga']</td>\n",
       "      <td>['Naga Films', 'Zabra Films']</td>\n",
       "      <td>['España-Italia', 'Naga']</td>\n",
       "      <td>['Comedia', 'Sátira', 'Comedia negra', 'Pelícu...</td>\n",
       "      <td>['1963: Festival de Venecia: Premios FIPRESCI']</td>\n",
       "      <td>0</td>\n",
       "      <td>0</td>\n",
       "    </tr>\n",
       "    <tr>\n",
       "      <th>1</th>\n",
       "      <td>Los santos inocentes</td>\n",
       "      <td>https://www.filmaffinity.com/es/film879812.html</td>\n",
       "      <td>Sí</td>\n",
       "      <td>8.1</td>\n",
       "      <td>44470.0</td>\n",
       "      <td>1984-01-01</td>\n",
       "      <td>['Alfredo Landa', 'Francisco Rabal', 'Juan Die...</td>\n",
       "      <td>['Mario Camus']</td>\n",
       "      <td>['Ganesh', 'RTVE']</td>\n",
       "      <td>['No se encontró información de coproducción']</td>\n",
       "      <td>['Drama', 'Drama social', 'Vida rural', 'Años ...</td>\n",
       "      <td>['1984: Cannes: Mejor Actor (ex aequo: Francis...</td>\n",
       "      <td>0</td>\n",
       "      <td>3149062</td>\n",
       "    </tr>\n",
       "    <tr>\n",
       "      <th>2</th>\n",
       "      <td>Plácido</td>\n",
       "      <td>https://www.filmaffinity.com/es/film895672.html</td>\n",
       "      <td>Sí</td>\n",
       "      <td>8.1</td>\n",
       "      <td>20396.0</td>\n",
       "      <td>1961-01-01</td>\n",
       "      <td>['Cassen', 'José Luis López Vázquez', 'Elvira ...</td>\n",
       "      <td>['Luis García Berlanga']</td>\n",
       "      <td>['Jet Films', 'Alfredo Matas']</td>\n",
       "      <td>['Films.Productor:Alfredo']</td>\n",
       "      <td>['Comedia', 'Pobreza', 'Navidad', 'Sátira']</td>\n",
       "      <td>['1961: Nominada al Oscar: Mejor película de h...</td>\n",
       "      <td>0</td>\n",
       "      <td>0</td>\n",
       "    </tr>\n",
       "    <tr>\n",
       "      <th>3</th>\n",
       "      <td>Viridiana</td>\n",
       "      <td>https://www.filmaffinity.com/es/film123112.html</td>\n",
       "      <td>Sí</td>\n",
       "      <td>8.1</td>\n",
       "      <td>28771.0</td>\n",
       "      <td>1961-01-01</td>\n",
       "      <td>['Silvia Pinal', 'Fernando Rey', 'Francisco Ra...</td>\n",
       "      <td>['Luis Buñuel']</td>\n",
       "      <td>['Films 59', 'Uninci']</td>\n",
       "      <td>['España-México', 'Films']</td>\n",
       "      <td>['Drama', 'Religión', 'Película de culto']</td>\n",
       "      <td>['1961: Festival de Cannes: Palma de Oro (ex-a...</td>\n",
       "      <td>0</td>\n",
       "      <td>679244</td>\n",
       "    </tr>\n",
       "    <tr>\n",
       "      <th>4</th>\n",
       "      <td>Bienvenido, Míster Marshall</td>\n",
       "      <td>https://www.filmaffinity.com/es/film435869.html</td>\n",
       "      <td>Sí</td>\n",
       "      <td>8.0</td>\n",
       "      <td>31421.0</td>\n",
       "      <td>1953-01-01</td>\n",
       "      <td>['José Isbert', 'Lolita Sevilla', 'Manolo Morá...</td>\n",
       "      <td>['Luis García Berlanga']</td>\n",
       "      <td>['Uninci']</td>\n",
       "      <td>['No se encontró información de coproducción']</td>\n",
       "      <td>['Comedia', 'Sátira']</td>\n",
       "      <td>['1953: Festival de Cannes: Premio Internacion...</td>\n",
       "      <td>0</td>\n",
       "      <td>0</td>\n",
       "    </tr>\n",
       "    <tr>\n",
       "      <th>...</th>\n",
       "      <td>...</td>\n",
       "      <td>...</td>\n",
       "      <td>...</td>\n",
       "      <td>...</td>\n",
       "      <td>...</td>\n",
       "      <td>...</td>\n",
       "      <td>...</td>\n",
       "      <td>...</td>\n",
       "      <td>...</td>\n",
       "      <td>...</td>\n",
       "      <td>...</td>\n",
       "      <td>...</td>\n",
       "      <td>...</td>\n",
       "      <td>...</td>\n",
       "    </tr>\n",
       "    <tr>\n",
       "      <th>3283</th>\n",
       "      <td>Mallorca Zombie</td>\n",
       "      <td>https://www.filmaffinity.com/es/film614286.html</td>\n",
       "      <td>Sí</td>\n",
       "      <td>1.6</td>\n",
       "      <td>236.0</td>\n",
       "      <td>2009-01-01</td>\n",
       "      <td>['No se encontró información de reparto']</td>\n",
       "      <td>['Marc Albertí']</td>\n",
       "      <td>['Alex Vargas', 'Friki Films']</td>\n",
       "      <td>['Vargas', 'Friki']</td>\n",
       "      <td>['Terror', 'Zombis', 'Serie B', 'Película de e...</td>\n",
       "      <td>[]</td>\n",
       "      <td>0</td>\n",
       "      <td>6</td>\n",
       "    </tr>\n",
       "    <tr>\n",
       "      <th>3284</th>\n",
       "      <td>El altar: Demasiado tarde para rezar</td>\n",
       "      <td>https://www.filmaffinity.com/es/film166981.html</td>\n",
       "      <td>Sí</td>\n",
       "      <td>1.6</td>\n",
       "      <td>123.0</td>\n",
       "      <td>2013-01-01</td>\n",
       "      <td>['No se encontró información de reparto']</td>\n",
       "      <td>['Pedro Sánchez Román']</td>\n",
       "      <td>['Grafxdigital']</td>\n",
       "      <td>['No se encontró información de coproducción']</td>\n",
       "      <td>['Terror', 'Fantástico']</td>\n",
       "      <td>[]</td>\n",
       "      <td>4000</td>\n",
       "      <td>0</td>\n",
       "    </tr>\n",
       "    <tr>\n",
       "      <th>3285</th>\n",
       "      <td>Bocadillo</td>\n",
       "      <td>https://www.filmaffinity.com/es/film513377.html</td>\n",
       "      <td>Sí</td>\n",
       "      <td>1.5</td>\n",
       "      <td>2073.0</td>\n",
       "      <td>2018-01-01</td>\n",
       "      <td>['Ismael Prego', 'Joaquín Albero', 'David Caja...</td>\n",
       "      <td>['Ismael Prego']</td>\n",
       "      <td>['YouPlanet']</td>\n",
       "      <td>['No se encontró información de coproducción']</td>\n",
       "      <td>['Comedia']</td>\n",
       "      <td>[]</td>\n",
       "      <td>0</td>\n",
       "      <td>200</td>\n",
       "    </tr>\n",
       "    <tr>\n",
       "      <th>3286</th>\n",
       "      <td>2097</td>\n",
       "      <td>https://www.filmaffinity.com/es/film680362.html</td>\n",
       "      <td>Sí</td>\n",
       "      <td>1.5</td>\n",
       "      <td>102.0</td>\n",
       "      <td>2017-01-01</td>\n",
       "      <td>['Saray Castro', 'Abraham Santacruz', 'Alba Ma...</td>\n",
       "      <td>['Esteban Calderín']</td>\n",
       "      <td>['No se encontró información de compañías']</td>\n",
       "      <td>['No se encontró información de coproducción']</td>\n",
       "      <td>['Acción']</td>\n",
       "      <td>[]</td>\n",
       "      <td>0</td>\n",
       "      <td>0</td>\n",
       "    </tr>\n",
       "    <tr>\n",
       "      <th>3287</th>\n",
       "      <td>Deadhunter: Sevillian Zombies</td>\n",
       "      <td>https://www.filmaffinity.com/es/film167980.html</td>\n",
       "      <td>Sí</td>\n",
       "      <td>1.5</td>\n",
       "      <td>442.0</td>\n",
       "      <td>2003-01-01</td>\n",
       "      <td>['No se encontró información de reparto']</td>\n",
       "      <td>['Julián Lara']</td>\n",
       "      <td>['Julián Lara']</td>\n",
       "      <td>['Lara']</td>\n",
       "      <td>['Terror', 'Zombis', 'Serie B']</td>\n",
       "      <td>[]</td>\n",
       "      <td>0</td>\n",
       "      <td>0</td>\n",
       "    </tr>\n",
       "  </tbody>\n",
       "</table>\n",
       "<p>3288 rows × 14 columns</p>\n",
       "</div>"
      ],
      "text/plain": [
       "                                    Título  \\\n",
       "0                               El verdugo   \n",
       "1                     Los santos inocentes   \n",
       "2                                  Plácido   \n",
       "3                                Viridiana   \n",
       "4              Bienvenido, Míster Marshall   \n",
       "...                                    ...   \n",
       "3283                       Mallorca Zombie   \n",
       "3284  El altar: Demasiado tarde para rezar   \n",
       "3285                             Bocadillo   \n",
       "3286                                  2097   \n",
       "3287         Deadhunter: Sevillian Zombies   \n",
       "\n",
       "                                                  URL Procesado  Nota  \\\n",
       "0     https://www.filmaffinity.com/es/film411856.html        Sí   8.2   \n",
       "1     https://www.filmaffinity.com/es/film879812.html        Sí   8.1   \n",
       "2     https://www.filmaffinity.com/es/film895672.html        Sí   8.1   \n",
       "3     https://www.filmaffinity.com/es/film123112.html        Sí   8.1   \n",
       "4     https://www.filmaffinity.com/es/film435869.html        Sí   8.0   \n",
       "...                                               ...       ...   ...   \n",
       "3283  https://www.filmaffinity.com/es/film614286.html        Sí   1.6   \n",
       "3284  https://www.filmaffinity.com/es/film166981.html        Sí   1.6   \n",
       "3285  https://www.filmaffinity.com/es/film513377.html        Sí   1.5   \n",
       "3286  https://www.filmaffinity.com/es/film680362.html        Sí   1.5   \n",
       "3287  https://www.filmaffinity.com/es/film167980.html        Sí   1.5   \n",
       "\n",
       "        Votos         Año                                            Reparto  \\\n",
       "0     41447.0  1963-01-01  ['José Isbert', 'Nino Manfredi', 'Emma Penella...   \n",
       "1     44470.0  1984-01-01  ['Alfredo Landa', 'Francisco Rabal', 'Juan Die...   \n",
       "2     20396.0  1961-01-01  ['Cassen', 'José Luis López Vázquez', 'Elvira ...   \n",
       "3     28771.0  1961-01-01  ['Silvia Pinal', 'Fernando Rey', 'Francisco Ra...   \n",
       "4     31421.0  1953-01-01  ['José Isbert', 'Lolita Sevilla', 'Manolo Morá...   \n",
       "...       ...         ...                                                ...   \n",
       "3283    236.0  2009-01-01          ['No se encontró información de reparto']   \n",
       "3284    123.0  2013-01-01          ['No se encontró información de reparto']   \n",
       "3285   2073.0  2018-01-01  ['Ismael Prego', 'Joaquín Albero', 'David Caja...   \n",
       "3286    102.0  2017-01-01  ['Saray Castro', 'Abraham Santacruz', 'Alba Ma...   \n",
       "3287    442.0  2003-01-01          ['No se encontró información de reparto']   \n",
       "\n",
       "                      Director                                    Compañías  \\\n",
       "0     ['Luis García Berlanga']                ['Naga Films', 'Zabra Films']   \n",
       "1              ['Mario Camus']                           ['Ganesh', 'RTVE']   \n",
       "2     ['Luis García Berlanga']               ['Jet Films', 'Alfredo Matas']   \n",
       "3              ['Luis Buñuel']                       ['Films 59', 'Uninci']   \n",
       "4     ['Luis García Berlanga']                                   ['Uninci']   \n",
       "...                        ...                                          ...   \n",
       "3283          ['Marc Albertí']               ['Alex Vargas', 'Friki Films']   \n",
       "3284   ['Pedro Sánchez Román']                             ['Grafxdigital']   \n",
       "3285          ['Ismael Prego']                                ['YouPlanet']   \n",
       "3286      ['Esteban Calderín']  ['No se encontró información de compañías']   \n",
       "3287           ['Julián Lara']                              ['Julián Lara']   \n",
       "\n",
       "                                        Coproducción  \\\n",
       "0                          ['España-Italia', 'Naga']   \n",
       "1     ['No se encontró información de coproducción']   \n",
       "2                        ['Films.Productor:Alfredo']   \n",
       "3                         ['España-México', 'Films']   \n",
       "4     ['No se encontró información de coproducción']   \n",
       "...                                              ...   \n",
       "3283                             ['Vargas', 'Friki']   \n",
       "3284  ['No se encontró información de coproducción']   \n",
       "3285  ['No se encontró información de coproducción']   \n",
       "3286  ['No se encontró información de coproducción']   \n",
       "3287                                        ['Lara']   \n",
       "\n",
       "                                                Géneros  \\\n",
       "0     ['Comedia', 'Sátira', 'Comedia negra', 'Pelícu...   \n",
       "1     ['Drama', 'Drama social', 'Vida rural', 'Años ...   \n",
       "2           ['Comedia', 'Pobreza', 'Navidad', 'Sátira']   \n",
       "3            ['Drama', 'Religión', 'Película de culto']   \n",
       "4                                 ['Comedia', 'Sátira']   \n",
       "...                                                 ...   \n",
       "3283  ['Terror', 'Zombis', 'Serie B', 'Película de e...   \n",
       "3284                           ['Terror', 'Fantástico']   \n",
       "3285                                        ['Comedia']   \n",
       "3286                                         ['Acción']   \n",
       "3287                    ['Terror', 'Zombis', 'Serie B']   \n",
       "\n",
       "                                                Premios Presupuesto Ingresos  \n",
       "0       ['1963: Festival de Venecia: Premios FIPRESCI']           0        0  \n",
       "1     ['1984: Cannes: Mejor Actor (ex aequo: Francis...           0  3149062  \n",
       "2     ['1961: Nominada al Oscar: Mejor película de h...           0        0  \n",
       "3     ['1961: Festival de Cannes: Palma de Oro (ex-a...           0   679244  \n",
       "4     ['1953: Festival de Cannes: Premio Internacion...           0        0  \n",
       "...                                                 ...         ...      ...  \n",
       "3283                                                 []           0        6  \n",
       "3284                                                 []        4000        0  \n",
       "3285                                                 []           0      200  \n",
       "3286                                                 []           0        0  \n",
       "3287                                                 []           0        0  \n",
       "\n",
       "[3288 rows x 14 columns]"
      ]
     },
     "execution_count": 20,
     "metadata": {},
     "output_type": "execute_result"
    }
   ],
   "source": [
    "# Imprimir el DataFrame\n",
    "datos"
   ]
  },
  {
   "cell_type": "code",
   "execution_count": null,
   "id": "c33c4e82-3788-4ab6-bddf-56de133c0a9f",
   "metadata": {},
   "outputs": [],
   "source": []
  }
 ],
 "metadata": {
  "kernelspec": {
   "display_name": "Python 3 (ipykernel)",
   "language": "python",
   "name": "python3"
  },
  "language_info": {
   "codemirror_mode": {
    "name": "ipython",
    "version": 3
   },
   "file_extension": ".py",
   "mimetype": "text/x-python",
   "name": "python",
   "nbconvert_exporter": "python",
   "pygments_lexer": "ipython3",
   "version": "3.11.4"
  }
 },
 "nbformat": 4,
 "nbformat_minor": 5
}
