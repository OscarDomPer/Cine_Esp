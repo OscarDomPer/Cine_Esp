{
 "cells": [
  {
   "cell_type": "code",
   "execution_count": 1,
   "id": "126ee844-a0e2-4f61-999b-551d884c6994",
   "metadata": {
    "tags": []
   },
   "outputs": [],
   "source": [
    "import numpy as np\n",
    "import pandas as pd\n",
    "from pprint import pprint\n",
    "import requests\n",
    "import json\n",
    "import requests\n",
    "from tqdm import tqdm"
   ]
  },
  {
   "cell_type": "code",
   "execution_count": 2,
   "id": "499d8a0f-def8-482f-a549-e50f62d8d3fe",
   "metadata": {
    "tags": []
   },
   "outputs": [
    {
     "ename": "FileNotFoundError",
     "evalue": "[Errno 2] No such file or directory: 'Datos/data_actores.csv'",
     "output_type": "error",
     "traceback": [
      "\u001b[1;31m---------------------------------------------------------------------------\u001b[0m",
      "\u001b[1;31mFileNotFoundError\u001b[0m                         Traceback (most recent call last)",
      "Cell \u001b[1;32mIn[2], line 6\u001b[0m\n\u001b[0;32m      5\u001b[0m \u001b[38;5;28;01mtry\u001b[39;00m:\n\u001b[1;32m----> 6\u001b[0m     actores \u001b[38;5;241m=\u001b[39m pd\u001b[38;5;241m.\u001b[39mread_csv(\u001b[38;5;124m\"\u001b[39m\u001b[38;5;124mDatos/data_actores.csv\u001b[39m\u001b[38;5;124m\"\u001b[39m)\n\u001b[0;32m      7\u001b[0m \u001b[38;5;28;01mexcept\u001b[39;00m \u001b[38;5;167;01mFileNotFoundError\u001b[39;00m:\n\u001b[0;32m      8\u001b[0m     \u001b[38;5;66;03m# Crear el archivo CSV con encabezados si no existe\u001b[39;00m\n",
      "File \u001b[1;32m~\\anaconda3\\Lib\\site-packages\\pandas\\util\\_decorators.py:211\u001b[0m, in \u001b[0;36mdeprecate_kwarg.<locals>._deprecate_kwarg.<locals>.wrapper\u001b[1;34m(*args, **kwargs)\u001b[0m\n\u001b[0;32m    210\u001b[0m         kwargs[new_arg_name] \u001b[38;5;241m=\u001b[39m new_arg_value\n\u001b[1;32m--> 211\u001b[0m \u001b[38;5;28;01mreturn\u001b[39;00m func(\u001b[38;5;241m*\u001b[39margs, \u001b[38;5;241m*\u001b[39m\u001b[38;5;241m*\u001b[39mkwargs)\n",
      "File \u001b[1;32m~\\anaconda3\\Lib\\site-packages\\pandas\\util\\_decorators.py:331\u001b[0m, in \u001b[0;36mdeprecate_nonkeyword_arguments.<locals>.decorate.<locals>.wrapper\u001b[1;34m(*args, **kwargs)\u001b[0m\n\u001b[0;32m    326\u001b[0m     warnings\u001b[38;5;241m.\u001b[39mwarn(\n\u001b[0;32m    327\u001b[0m         msg\u001b[38;5;241m.\u001b[39mformat(arguments\u001b[38;5;241m=\u001b[39m_format_argument_list(allow_args)),\n\u001b[0;32m    328\u001b[0m         \u001b[38;5;167;01mFutureWarning\u001b[39;00m,\n\u001b[0;32m    329\u001b[0m         stacklevel\u001b[38;5;241m=\u001b[39mfind_stack_level(),\n\u001b[0;32m    330\u001b[0m     )\n\u001b[1;32m--> 331\u001b[0m \u001b[38;5;28;01mreturn\u001b[39;00m func(\u001b[38;5;241m*\u001b[39margs, \u001b[38;5;241m*\u001b[39m\u001b[38;5;241m*\u001b[39mkwargs)\n",
      "File \u001b[1;32m~\\anaconda3\\Lib\\site-packages\\pandas\\io\\parsers\\readers.py:950\u001b[0m, in \u001b[0;36mread_csv\u001b[1;34m(filepath_or_buffer, sep, delimiter, header, names, index_col, usecols, squeeze, prefix, mangle_dupe_cols, dtype, engine, converters, true_values, false_values, skipinitialspace, skiprows, skipfooter, nrows, na_values, keep_default_na, na_filter, verbose, skip_blank_lines, parse_dates, infer_datetime_format, keep_date_col, date_parser, dayfirst, cache_dates, iterator, chunksize, compression, thousands, decimal, lineterminator, quotechar, quoting, doublequote, escapechar, comment, encoding, encoding_errors, dialect, error_bad_lines, warn_bad_lines, on_bad_lines, delim_whitespace, low_memory, memory_map, float_precision, storage_options)\u001b[0m\n\u001b[0;32m    948\u001b[0m kwds\u001b[38;5;241m.\u001b[39mupdate(kwds_defaults)\n\u001b[1;32m--> 950\u001b[0m \u001b[38;5;28;01mreturn\u001b[39;00m _read(filepath_or_buffer, kwds)\n",
      "File \u001b[1;32m~\\anaconda3\\Lib\\site-packages\\pandas\\io\\parsers\\readers.py:605\u001b[0m, in \u001b[0;36m_read\u001b[1;34m(filepath_or_buffer, kwds)\u001b[0m\n\u001b[0;32m    604\u001b[0m \u001b[38;5;66;03m# Create the parser.\u001b[39;00m\n\u001b[1;32m--> 605\u001b[0m parser \u001b[38;5;241m=\u001b[39m TextFileReader(filepath_or_buffer, \u001b[38;5;241m*\u001b[39m\u001b[38;5;241m*\u001b[39mkwds)\n\u001b[0;32m    607\u001b[0m \u001b[38;5;28;01mif\u001b[39;00m chunksize \u001b[38;5;129;01mor\u001b[39;00m iterator:\n",
      "File \u001b[1;32m~\\anaconda3\\Lib\\site-packages\\pandas\\io\\parsers\\readers.py:1442\u001b[0m, in \u001b[0;36mTextFileReader.__init__\u001b[1;34m(self, f, engine, **kwds)\u001b[0m\n\u001b[0;32m   1441\u001b[0m \u001b[38;5;28mself\u001b[39m\u001b[38;5;241m.\u001b[39mhandles: IOHandles \u001b[38;5;241m|\u001b[39m \u001b[38;5;28;01mNone\u001b[39;00m \u001b[38;5;241m=\u001b[39m \u001b[38;5;28;01mNone\u001b[39;00m\n\u001b[1;32m-> 1442\u001b[0m \u001b[38;5;28mself\u001b[39m\u001b[38;5;241m.\u001b[39m_engine \u001b[38;5;241m=\u001b[39m \u001b[38;5;28mself\u001b[39m\u001b[38;5;241m.\u001b[39m_make_engine(f, \u001b[38;5;28mself\u001b[39m\u001b[38;5;241m.\u001b[39mengine)\n",
      "File \u001b[1;32m~\\anaconda3\\Lib\\site-packages\\pandas\\io\\parsers\\readers.py:1735\u001b[0m, in \u001b[0;36mTextFileReader._make_engine\u001b[1;34m(self, f, engine)\u001b[0m\n\u001b[0;32m   1734\u001b[0m         mode \u001b[38;5;241m+\u001b[39m\u001b[38;5;241m=\u001b[39m \u001b[38;5;124m\"\u001b[39m\u001b[38;5;124mb\u001b[39m\u001b[38;5;124m\"\u001b[39m\n\u001b[1;32m-> 1735\u001b[0m \u001b[38;5;28mself\u001b[39m\u001b[38;5;241m.\u001b[39mhandles \u001b[38;5;241m=\u001b[39m get_handle(\n\u001b[0;32m   1736\u001b[0m     f,\n\u001b[0;32m   1737\u001b[0m     mode,\n\u001b[0;32m   1738\u001b[0m     encoding\u001b[38;5;241m=\u001b[39m\u001b[38;5;28mself\u001b[39m\u001b[38;5;241m.\u001b[39moptions\u001b[38;5;241m.\u001b[39mget(\u001b[38;5;124m\"\u001b[39m\u001b[38;5;124mencoding\u001b[39m\u001b[38;5;124m\"\u001b[39m, \u001b[38;5;28;01mNone\u001b[39;00m),\n\u001b[0;32m   1739\u001b[0m     compression\u001b[38;5;241m=\u001b[39m\u001b[38;5;28mself\u001b[39m\u001b[38;5;241m.\u001b[39moptions\u001b[38;5;241m.\u001b[39mget(\u001b[38;5;124m\"\u001b[39m\u001b[38;5;124mcompression\u001b[39m\u001b[38;5;124m\"\u001b[39m, \u001b[38;5;28;01mNone\u001b[39;00m),\n\u001b[0;32m   1740\u001b[0m     memory_map\u001b[38;5;241m=\u001b[39m\u001b[38;5;28mself\u001b[39m\u001b[38;5;241m.\u001b[39moptions\u001b[38;5;241m.\u001b[39mget(\u001b[38;5;124m\"\u001b[39m\u001b[38;5;124mmemory_map\u001b[39m\u001b[38;5;124m\"\u001b[39m, \u001b[38;5;28;01mFalse\u001b[39;00m),\n\u001b[0;32m   1741\u001b[0m     is_text\u001b[38;5;241m=\u001b[39mis_text,\n\u001b[0;32m   1742\u001b[0m     errors\u001b[38;5;241m=\u001b[39m\u001b[38;5;28mself\u001b[39m\u001b[38;5;241m.\u001b[39moptions\u001b[38;5;241m.\u001b[39mget(\u001b[38;5;124m\"\u001b[39m\u001b[38;5;124mencoding_errors\u001b[39m\u001b[38;5;124m\"\u001b[39m, \u001b[38;5;124m\"\u001b[39m\u001b[38;5;124mstrict\u001b[39m\u001b[38;5;124m\"\u001b[39m),\n\u001b[0;32m   1743\u001b[0m     storage_options\u001b[38;5;241m=\u001b[39m\u001b[38;5;28mself\u001b[39m\u001b[38;5;241m.\u001b[39moptions\u001b[38;5;241m.\u001b[39mget(\u001b[38;5;124m\"\u001b[39m\u001b[38;5;124mstorage_options\u001b[39m\u001b[38;5;124m\"\u001b[39m, \u001b[38;5;28;01mNone\u001b[39;00m),\n\u001b[0;32m   1744\u001b[0m )\n\u001b[0;32m   1745\u001b[0m \u001b[38;5;28;01massert\u001b[39;00m \u001b[38;5;28mself\u001b[39m\u001b[38;5;241m.\u001b[39mhandles \u001b[38;5;129;01mis\u001b[39;00m \u001b[38;5;129;01mnot\u001b[39;00m \u001b[38;5;28;01mNone\u001b[39;00m\n",
      "File \u001b[1;32m~\\anaconda3\\Lib\\site-packages\\pandas\\io\\common.py:856\u001b[0m, in \u001b[0;36mget_handle\u001b[1;34m(path_or_buf, mode, encoding, compression, memory_map, is_text, errors, storage_options)\u001b[0m\n\u001b[0;32m    854\u001b[0m \u001b[38;5;28;01mif\u001b[39;00m ioargs\u001b[38;5;241m.\u001b[39mencoding \u001b[38;5;129;01mand\u001b[39;00m \u001b[38;5;124m\"\u001b[39m\u001b[38;5;124mb\u001b[39m\u001b[38;5;124m\"\u001b[39m \u001b[38;5;129;01mnot\u001b[39;00m \u001b[38;5;129;01min\u001b[39;00m ioargs\u001b[38;5;241m.\u001b[39mmode:\n\u001b[0;32m    855\u001b[0m     \u001b[38;5;66;03m# Encoding\u001b[39;00m\n\u001b[1;32m--> 856\u001b[0m     handle \u001b[38;5;241m=\u001b[39m \u001b[38;5;28mopen\u001b[39m(\n\u001b[0;32m    857\u001b[0m         handle,\n\u001b[0;32m    858\u001b[0m         ioargs\u001b[38;5;241m.\u001b[39mmode,\n\u001b[0;32m    859\u001b[0m         encoding\u001b[38;5;241m=\u001b[39mioargs\u001b[38;5;241m.\u001b[39mencoding,\n\u001b[0;32m    860\u001b[0m         errors\u001b[38;5;241m=\u001b[39merrors,\n\u001b[0;32m    861\u001b[0m         newline\u001b[38;5;241m=\u001b[39m\u001b[38;5;124m\"\u001b[39m\u001b[38;5;124m\"\u001b[39m,\n\u001b[0;32m    862\u001b[0m     )\n\u001b[0;32m    863\u001b[0m \u001b[38;5;28;01melse\u001b[39;00m:\n\u001b[0;32m    864\u001b[0m     \u001b[38;5;66;03m# Binary mode\u001b[39;00m\n",
      "\u001b[1;31mFileNotFoundError\u001b[0m: [Errno 2] No such file or directory: 'Datos/data_actores.csv'",
      "\nDuring handling of the above exception, another exception occurred:\n",
      "\u001b[1;31mFileNotFoundError\u001b[0m                         Traceback (most recent call last)",
      "Cell \u001b[1;32mIn[2], line 9\u001b[0m\n\u001b[0;32m      6\u001b[0m     actores \u001b[38;5;241m=\u001b[39m pd\u001b[38;5;241m.\u001b[39mread_csv(\u001b[38;5;124m\"\u001b[39m\u001b[38;5;124mDatos/data_actores.csv\u001b[39m\u001b[38;5;124m\"\u001b[39m)\n\u001b[0;32m      7\u001b[0m \u001b[38;5;28;01mexcept\u001b[39;00m \u001b[38;5;167;01mFileNotFoundError\u001b[39;00m:\n\u001b[0;32m      8\u001b[0m     \u001b[38;5;66;03m# Crear el archivo CSV con encabezados si no existe\u001b[39;00m\n\u001b[1;32m----> 9\u001b[0m     \u001b[38;5;28;01mwith\u001b[39;00m \u001b[38;5;28mopen\u001b[39m(\u001b[38;5;124m\"\u001b[39m\u001b[38;5;124mDatos/data_actores.csv\u001b[39m\u001b[38;5;124m\"\u001b[39m, \u001b[38;5;124m\"\u001b[39m\u001b[38;5;124mw\u001b[39m\u001b[38;5;124m\"\u001b[39m) \u001b[38;5;28;01mas\u001b[39;00m file:\n\u001b[0;32m     10\u001b[0m         file\u001b[38;5;241m.\u001b[39mwrite(\u001b[38;5;124m\"\u001b[39m\u001b[38;5;124mNombre,Descripción,Id_IMDB\u001b[39m\u001b[38;5;124m\"\u001b[39m)\n\u001b[0;32m     12\u001b[0m ruta_actores \u001b[38;5;241m=\u001b[39m \u001b[38;5;124m'\u001b[39m\u001b[38;5;124mDatos/data_actores.csv\u001b[39m\u001b[38;5;124m'\u001b[39m\n",
      "File \u001b[1;32m~\\anaconda3\\Lib\\site-packages\\IPython\\core\\interactiveshell.py:284\u001b[0m, in \u001b[0;36m_modified_open\u001b[1;34m(file, *args, **kwargs)\u001b[0m\n\u001b[0;32m    277\u001b[0m \u001b[38;5;28;01mif\u001b[39;00m file \u001b[38;5;129;01min\u001b[39;00m {\u001b[38;5;241m0\u001b[39m, \u001b[38;5;241m1\u001b[39m, \u001b[38;5;241m2\u001b[39m}:\n\u001b[0;32m    278\u001b[0m     \u001b[38;5;28;01mraise\u001b[39;00m \u001b[38;5;167;01mValueError\u001b[39;00m(\n\u001b[0;32m    279\u001b[0m         \u001b[38;5;124mf\u001b[39m\u001b[38;5;124m\"\u001b[39m\u001b[38;5;124mIPython won\u001b[39m\u001b[38;5;124m'\u001b[39m\u001b[38;5;124mt let you open fd=\u001b[39m\u001b[38;5;132;01m{\u001b[39;00mfile\u001b[38;5;132;01m}\u001b[39;00m\u001b[38;5;124m by default \u001b[39m\u001b[38;5;124m\"\u001b[39m\n\u001b[0;32m    280\u001b[0m         \u001b[38;5;124m\"\u001b[39m\u001b[38;5;124mas it is likely to crash IPython. If you know what you are doing, \u001b[39m\u001b[38;5;124m\"\u001b[39m\n\u001b[0;32m    281\u001b[0m         \u001b[38;5;124m\"\u001b[39m\u001b[38;5;124myou can use builtins\u001b[39m\u001b[38;5;124m'\u001b[39m\u001b[38;5;124m open.\u001b[39m\u001b[38;5;124m\"\u001b[39m\n\u001b[0;32m    282\u001b[0m     )\n\u001b[1;32m--> 284\u001b[0m \u001b[38;5;28;01mreturn\u001b[39;00m io_open(file, \u001b[38;5;241m*\u001b[39margs, \u001b[38;5;241m*\u001b[39m\u001b[38;5;241m*\u001b[39mkwargs)\n",
      "\u001b[1;31mFileNotFoundError\u001b[0m: [Errno 2] No such file or directory: 'Datos/data_actores.csv'"
     ]
    }
   ],
   "source": [
    "# ---------------------- INICIALIZACIÓN ----------------------\n",
    "\n",
    "# Intenta leer el archivo CSV para obtener las URLs ya procesadas.\n",
    "# Si no existe el archivo, crea uno nuevo.\n",
    "try:\n",
    "    actores = pd.read_csv(\"Datos/data_actores.csv\")\n",
    "except FileNotFoundError:\n",
    "    # Crear el archivo CSV con encabezados si no existe\n",
    "    with open(\"Datos/data_actores.csv\", \"w\") as file:\n",
    "        file.write(\"Nombre,Descripción,Id_IMDB\")\n",
    "\n",
    "ruta_actores = 'Datos/data_actores.csv'\n",
    "actores = pd.read_csv(ruta_actores)\n",
    "\n",
    "ruta_archivo = 'Datos/data_peliculas_corregido.csv'\n",
    "datos = pd.read_csv(ruta_archivo)"
   ]
  },
  {
   "cell_type": "code",
   "execution_count": null,
   "id": "ff577b0f-bca3-4ab6-a56e-bfd7eb211f1a",
   "metadata": {
    "tags": []
   },
   "outputs": [],
   "source": [
    "urls_procesadas = []\n",
    "# Crear el archivo CSV con encabezados si no existe\n",
    "if 'Procesado_IMDB' not in datos.columns:\n",
    "    datos['Procesado_IMDB'] = None\n",
    "datos['Procesado_IMDB'] = 'No'"
   ]
  },
  {
   "cell_type": "code",
   "execution_count": null,
   "id": "8d641145-1e4c-47f2-b7c8-3782ccf99945",
   "metadata": {
    "tags": []
   },
   "outputs": [],
   "source": [
    "url = \"https://imdb-api.com/API/AdvancedSearch/k_hy41rb6h\""
   ]
  },
  {
   "cell_type": "code",
   "execution_count": 20,
   "id": "51cc5eb0-b330-43f5-841f-ca04e126f16d",
   "metadata": {},
   "outputs": [
    {
     "data": {
      "text/html": [
       "<div>\n",
       "<style scoped>\n",
       "    .dataframe tbody tr th:only-of-type {\n",
       "        vertical-align: middle;\n",
       "    }\n",
       "\n",
       "    .dataframe tbody tr th {\n",
       "        vertical-align: top;\n",
       "    }\n",
       "\n",
       "    .dataframe thead th {\n",
       "        text-align: right;\n",
       "    }\n",
       "</style>\n",
       "<table border=\"1\" class=\"dataframe\">\n",
       "  <thead>\n",
       "    <tr style=\"text-align: right;\">\n",
       "      <th></th>\n",
       "      <th>Nombre</th>\n",
       "      <th>Descripcion</th>\n",
       "      <th>Id_IMDB</th>\n",
       "    </tr>\n",
       "  </thead>\n",
       "  <tbody>\n",
       "    <tr>\n",
       "      <th>0</th>\n",
       "      <td>Mary Carrillo</td>\n",
       "      <td>Actress, The Little Apartment (1958)</td>\n",
       "      <td>nm0140518</td>\n",
       "    </tr>\n",
       "    <tr>\n",
       "      <th>1</th>\n",
       "      <td>Alfredo Landa</td>\n",
       "      <td>Actor, El crack (1981)</td>\n",
       "      <td>nm0484376</td>\n",
       "    </tr>\n",
       "    <tr>\n",
       "      <th>2</th>\n",
       "      <td>Francisco Rabal</td>\n",
       "      <td>Actor, Tie Me Up! Tie Me Down! (1989)</td>\n",
       "      <td>nm0704719</td>\n",
       "    </tr>\n",
       "    <tr>\n",
       "      <th>3</th>\n",
       "      <td>Juan Diego Botto</td>\n",
       "      <td>Actor, La Celestina (1996)</td>\n",
       "      <td>nm0098709</td>\n",
       "    </tr>\n",
       "    <tr>\n",
       "      <th>4</th>\n",
       "      <td>Terele Pávez</td>\n",
       "      <td>Actress, La Celestina (1996)</td>\n",
       "      <td>nm0701715</td>\n",
       "    </tr>\n",
       "    <tr>\n",
       "      <th>...</th>\n",
       "      <td>...</td>\n",
       "      <td>...</td>\n",
       "      <td>...</td>\n",
       "    </tr>\n",
       "    <tr>\n",
       "      <th>2204</th>\n",
       "      <td>Julio Manrique</td>\n",
       "      <td>Actor, Parallel Mothers (2021)</td>\n",
       "      <td>nm0991890</td>\n",
       "    </tr>\n",
       "    <tr>\n",
       "      <th>2205</th>\n",
       "      <td>Lluís Villanueva</td>\n",
       "      <td>Actor, Porca misèria (2004–2007)</td>\n",
       "      <td>nm1258766</td>\n",
       "    </tr>\n",
       "    <tr>\n",
       "      <th>2206</th>\n",
       "      <td>Joaquín Notario</td>\n",
       "      <td>Actor, Julieta (2016)</td>\n",
       "      <td>nm0636541</td>\n",
       "    </tr>\n",
       "    <tr>\n",
       "      <th>2207</th>\n",
       "      <td>Éric Caravaca</td>\n",
       "      <td>aka \"Eric Caravaca\"</td>\n",
       "      <td>nm0136001</td>\n",
       "    </tr>\n",
       "    <tr>\n",
       "      <th>2208</th>\n",
       "      <td>María Esteve</td>\n",
       "      <td>Actress, The Other Side of the Bed (2002)</td>\n",
       "      <td>nm0261695</td>\n",
       "    </tr>\n",
       "  </tbody>\n",
       "</table>\n",
       "<p>2209 rows × 3 columns</p>\n",
       "</div>"
      ],
      "text/plain": [
       "                Nombre                                Descripcion    Id_IMDB\n",
       "0        Mary Carrillo       Actress, The Little Apartment (1958)  nm0140518\n",
       "1        Alfredo Landa                     Actor, El crack (1981)  nm0484376\n",
       "2      Francisco Rabal      Actor, Tie Me Up! Tie Me Down! (1989)  nm0704719\n",
       "3     Juan Diego Botto                 Actor, La Celestina (1996)  nm0098709\n",
       "4         Terele Pávez               Actress, La Celestina (1996)  nm0701715\n",
       "...                ...                                        ...        ...\n",
       "2204    Julio Manrique             Actor, Parallel Mothers (2021)  nm0991890\n",
       "2205  Lluís Villanueva           Actor, Porca misèria (2004–2007)  nm1258766\n",
       "2206   Joaquín Notario                      Actor, Julieta (2016)  nm0636541\n",
       "2207     Éric Caravaca                        aka \"Eric Caravaca\"  nm0136001\n",
       "2208      María Esteve  Actress, The Other Side of the Bed (2002)  nm0261695\n",
       "\n",
       "[2209 rows x 3 columns]"
      ]
     },
     "execution_count": 20,
     "metadata": {},
     "output_type": "execute_result"
    }
   ],
   "source": [
    "actores"
   ]
  },
  {
   "cell_type": "code",
   "execution_count": null,
   "id": "35a22000-408d-44b5-89d6-510d38b89edd",
   "metadata": {},
   "outputs": [],
   "source": [
    "# Contador de actores procesados\n",
    "actores_procesados = 0\n",
    "\n",
    "actores_peli = actores.copy().head()\n",
    "for indice, fila in tqdm(datos.iterrows(), total=datos.shape[0]):\n",
    "    reparto = fila['Reparto']\n",
    "\n",
    "    # Si ya ha sido procesado, saltar a la siguiente iteración\n",
    "    if fila['Procesado_IMDB'] == 'Sí':\n",
    "        continue\n",
    "    try:\n",
    "        nombres = reparto.split(\", \")\n",
    "        \n",
    "        for nombre in nombres:\n",
    "            if nombre not in actores['Nombre']:\n",
    "                try:\n",
    "                    # Buscar la película en TMDb\n",
    "                    url_busqueda = f'https://imdb-api.com/API/SearchName/k_hy41rb6h/{nombre}'\n",
    "                    #url_busqueda = f\"{url}?title={titulo}&tytle_type=feature&release_date={año}-01-01,{año}-12-31\"\n",
    "                    #https://imdb-api.com/en/API/SearchName/k_hy41rb6h/Jean%20Reno\n",
    "                    #print(url_busqueda)\n",
    "                    respuesta_busqueda = requests.get(url_busqueda)\n",
    "                    #print(respuesta_busqueda)\n",
    "                    datos_busqueda = pd.json_normalize(respuesta_busqueda.json()[\"results\"])\n",
    "                    datos_actor = datos_busqueda.head(1)\n",
    "                    #print(datos_actor)\n",
    "                    if len(datos_actor) > 0:\n",
    "                        name = datos_actor.get('title', 0)\n",
    "                        Descripcion = datos_actor.get('description', 0)\n",
    "                        imdb_id = datos_actor.get('id', 0).values[0]\n",
    "                        if (imdb_id not in actores[\"Id_IMDB\"].values) & (imdb_id not in actores_peli[\"Id_IMDB\"].values):               \n",
    "                            #print('hola')                        \n",
    "                            actor= pd.DataFrame({'Nombre' : name, 'Descripcion' : Descripcion, 'Id_IMDB' : imdb_id})\n",
    "                            #df = pd.DataFrame({'Title': titles, 'URL': urls, 'Procesado_Filmaffinity': 'No'})\n",
    "                            #actores.at[indice, 'Descripción'] = Description\n",
    "                            #actores.at[indice, 'Id_IMDB'] = imdb_id\n",
    "                            actores_procesados += 1\n",
    "                            actores_peli = pd.concat([actores_peli, actor], ignore_index = False).drop_duplicates(\"Id_IMDB\")                       \n",
    "                            # actores.to_csv(ruta_actores, index=False)\n",
    "                            if actores_procesados % 10 == 0: \n",
    "                                print(f\"Se han capturado {actores_procesados} actores de la película\")\n",
    "                           #else:\n",
    "                            # Si no se encontró la película, marcar como no procesada\n",
    "                            #datos.at[indice, 'Procesado'] = 'No'\n",
    "                        #print(actores_procesados)\n",
    "                    datos.at[indice, 'Procesado_IMDB'] = 'Sí'\n",
    "                    datos.to_csv(ruta_archivo, index=False)\n",
    "                except Exception as e:\n",
    "                    print(f\"Error procesando el actor123 {nombre}: {e}\")\n",
    "    except Exception as e:\n",
    "        print(f\"Error procesando el actor {nombre}: {e}\")\n",
    "        # Marcar la película como no procesada en el DataFrame original\n",
    "        #datos.at[indice, 'Procesado_IMDB'] = 'No'\n",
    "actores = pd.concat([actores, actores_peli], ignore_index = True).drop_duplicates(\"Id_IMDB\")\n",
    "# Guardar el DataFrame en el archivo CSV al final del proceso\n",
    "datos.to_csv(ruta_archivo, index=False)\n",
    "actores.to_csv(ruta_actores, index=False)\n",
    "print(f\"Datos de actores guardados en {ruta_actores}\")\n",
    "\n",
    "# Imprimir el DataFrame\n",
    "print(actores)"
   ]
  },
  {
   "cell_type": "code",
   "execution_count": 28,
   "id": "66f27adf-443c-4469-a814-4990f9ecf830",
   "metadata": {
    "jp-MarkdownHeadingCollapsed": true
   },
   "outputs": [
    {
     "name": "stdout",
     "output_type": "stream",
     "text": [
      "Datos de actores guardados en Datos/data_actores.csv\n"
     ]
    }
   ],
   "source": [
    "###### actores = pd.concat([actores, actores_peli], ignore_index = True).drop_duplicates(\"Id_IMDB\")\n",
    "# Guardar el DataFrame en el archivo CSV al final del proceso\n",
    "datos.to_csv(ruta_archivo, index=False)\n",
    "actores.to_csv(ruta_actores, index=False)\n",
    "print(f\"Datos de actores guardados en {ruta_actores}\")"
   ]
  },
  {
   "cell_type": "code",
   "execution_count": null,
   "id": "b960fba3-8e1c-41fd-bf35-3b6f21e3c442",
   "metadata": {},
   "outputs": [],
   "source": []
  },
  {
   "cell_type": "code",
   "execution_count": null,
   "id": "b1d75d3c-a2b3-4064-a2e7-8337c93f53bc",
   "metadata": {},
   "outputs": [],
   "source": []
  },
  {
   "cell_type": "code",
   "execution_count": null,
   "id": "fd39407c-5cb4-4a59-ac67-cb6bc9819d20",
   "metadata": {},
   "outputs": [],
   "source": []
  },
  {
   "cell_type": "code",
   "execution_count": null,
   "id": "7a3e7f8b-3d10-42f4-abc8-002fb109118c",
   "metadata": {},
   "outputs": [],
   "source": [
    "# Realiza un reset de la columna Procesado, para volver a procesar\n",
    "# Leer el archivo CSV\n",
    "file_path = 'data/data_peliculas_corregido.csv'\n",
    "data = pd.read_csv(\"data/data_peliculas_corregido.csv\", low_memory=False)\n",
    "\n",
    "# Cambiar todos los valores en la columna 'Procesado' a 'No'\n",
    "data['Procesado_IMDB'] = 'No'\n",
    "\n",
    "# Guardar el archivo CSV modificado\n",
    "data.to_csv(file_path, index=False)"
   ]
  },
  {
   "cell_type": "code",
   "execution_count": null,
   "id": "777f6655-ebb2-48b8-ab7a-d4e802e9bf57",
   "metadata": {},
   "outputs": [],
   "source": [
    "respuesta_busqueda"
   ]
  },
  {
   "cell_type": "code",
   "execution_count": null,
   "id": "6c3b7c70-79d4-4d3e-a3dd-c5450e571817",
   "metadata": {},
   "outputs": [],
   "source": [
    "datos_busqueda.head(1)"
   ]
  },
  {
   "cell_type": "code",
   "execution_count": null,
   "id": "b72b6928-4292-4f51-aaf3-47b7d5b130dc",
   "metadata": {},
   "outputs": [],
   "source": [
    "       if datos_busqueda['results']:\n",
    "            # Obtener el ID de la película\n",
    "            id_pelicula = datos_busqueda['results'][0]['id']\n",
    "            # Consultar los detalles de la película\n",
    "            url_detalles = f'{url_base}/movie/{id_pelicula}?api_key={clave_api}'\n",
    "            respuesta_detalles = requests.get(url_detalles)\n",
    "            datos_detalles = respuesta_detalles.json()\n",
    "            # Obtener el presupuesto y los ingresos\n",
    "            presupuesto = datos_detalles.get('budget', 0)\n",
    "            ingresos = datos_detalles.get('revenue', 0)\n",
    "            # Incrementar el contador de películas procesadas\n",
    "            peliculas_procesadas += 1\n",
    "            # Actualizar el DataFrame original con los datos extraídos\n",
    "            datos.at[indice, 'Presupuesto'] = presupuesto\n",
    "            datos.at[indice, 'Ingresos'] = ingresos\n",
    "            datos.at[indice, 'Procesado'] = 'Sí'\n",
    "            # Guardar el DataFrame en el archivo CSV cada 100 películas procesadas\n",
    "            if peliculas_procesadas % 100 == 0:\n",
    "                datos.to_csv(ruta_archivo, index=False)\n",
    "                print(f\"Datos económicos de las primeras {peliculas_procesadas} películas guardados en {ruta_archivo}\")\n",
    "        else:\n",
    "            # Si no se encontró la película, marcar como no procesada\n",
    "            datos.at[indice, 'Procesado'] = 'No'"
   ]
  },
  {
   "cell_type": "code",
   "execution_count": null,
   "id": "693900df-1282-4294-bbd5-65c301f94505",
   "metadata": {},
   "outputs": [],
   "source": [
    "endpoint = f\"https://imdb-api.com/en/API/SearchName/k_hy41rb6h/María Teresa Rabal Balaguer\"\n",
    "\n",
    "print(f\"Endpoint: {endpoint}\")\n",
    "\n",
    "response = requests.get(endpoint)\n",
    "\n"
   ]
  },
  {
   "cell_type": "code",
   "execution_count": null,
   "id": "60536062-8ab0-4261-be2b-311aa921e206",
   "metadata": {},
   "outputs": [],
   "source": [
    "resultado = pd.json_normalize(response.json()[\"results\"])"
   ]
  },
  {
   "cell_type": "code",
   "execution_count": null,
   "id": "f5e49541-f9e8-4e9c-8a7b-52f45a16d78b",
   "metadata": {},
   "outputs": [],
   "source": []
  },
  {
   "cell_type": "code",
   "execution_count": null,
   "id": "2dfa9741-ffe0-4258-bbc8-f40af4dcd1fc",
   "metadata": {},
   "outputs": [],
   "source": [
    "peli = resultado.head(1)"
   ]
  },
  {
   "cell_type": "code",
   "execution_count": null,
   "id": "3094a72e-cc06-41eb-8c65-d9cf6b0f9798",
   "metadata": {},
   "outputs": [],
   "source": [
    "peli"
   ]
  },
  {
   "cell_type": "code",
   "execution_count": null,
   "id": "60bd4b53-90dc-4c45-ba2e-986e98366b8c",
   "metadata": {},
   "outputs": [],
   "source": [
    "generos = pd.json_normalize(peli[\"genreList\"])"
   ]
  },
  {
   "cell_type": "code",
   "execution_count": null,
   "id": "50f58556-24c2-485b-b9b6-a8aa7b3ff894",
   "metadata": {},
   "outputs": [],
   "source": [
    "generos = generos.T"
   ]
  },
  {
   "cell_type": "code",
   "execution_count": null,
   "id": "ad771954-cbc0-4b96-bc7e-790cc530a644",
   "metadata": {},
   "outputs": [],
   "source": [
    "generos"
   ]
  },
  {
   "cell_type": "code",
   "execution_count": null,
   "id": "9b734e49-da05-4a02-aada-abb212c1febf",
   "metadata": {},
   "outputs": [],
   "source": [
    "dato"
   ]
  },
  {
   "cell_type": "code",
   "execution_count": null,
   "id": "e48cc482-6de9-45b5-94c2-d7eaf5b1e1b3",
   "metadata": {},
   "outputs": [],
   "source": [
    "generos_2 = generos_2.index(generos.values("
   ]
  },
  {
   "cell_type": "code",
   "execution_count": null,
   "id": "8269cca9-73b7-4713-881a-3f1c10290fe2",
   "metadata": {},
   "outputs": [],
   "source": [
    "reparto"
   ]
  },
  {
   "cell_type": "code",
   "execution_count": null,
   "id": "35e09026-1ab9-4365-852b-e018c411ce59",
   "metadata": {},
   "outputs": [],
   "source": []
  }
 ],
 "metadata": {
  "kernelspec": {
   "display_name": "Python 3 (ipykernel)",
   "language": "python",
   "name": "python3"
  },
  "language_info": {
   "codemirror_mode": {
    "name": "ipython",
    "version": 3
   },
   "file_extension": ".py",
   "mimetype": "text/x-python",
   "name": "python",
   "nbconvert_exporter": "python",
   "pygments_lexer": "ipython3",
   "version": "3.11.4"
  },
  "widgets": {
   "application/vnd.jupyter.widget-state+json": {
    "state": {},
    "version_major": 2,
    "version_minor": 0
   }
  }
 },
 "nbformat": 4,
 "nbformat_minor": 5
}
